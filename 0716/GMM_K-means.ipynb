{
 "cells": [
  {
   "cell_type": "markdown",
   "metadata": {
    "colab_type": "text",
    "id": "SJLoB37Qo2W4"
   },
   "source": [
    "# K-means algorithm for Gaussian mixture - Test\n",
    "\n",
    "성공조건: K-means algorithm의 일부분을 구현하여 성공적으로 clustering 수행하기"
   ]
  },
  {
   "cell_type": "markdown",
   "metadata": {
    "colab_type": "text",
    "id": "pKN2_1OooMdr"
   },
   "source": [
    "## Preliminaries\n",
    "\n",
    "Cell을 실행하여 import 및 helper function을 선언합니다"
   ]
  },
  {
   "cell_type": "code",
   "execution_count": null,
   "metadata": {
    "colab": {},
    "colab_type": "code",
    "id": "VDjUUT_koMds"
   },
   "outputs": [],
   "source": [
    "import sys\n",
    "import numpy as np\n",
    "import math\n",
    "import os\n",
    "import time\n",
    "%matplotlib inline\n",
    "import matplotlib\n",
    "import matplotlib.pyplot as plt\n",
    "import sklearn.cluster\n",
    "\n",
    "def plot_data(X, y, n_clusters, title=''):\n",
    "    # plot data\n",
    "    plt.figure()\n",
    "    for idx in range(n_clusters):\n",
    "        plt.scatter(X[y == idx, 0], X[y == idx, 1],\n",
    "                    label='{0}'.format(idx))\n",
    "    ax = plt.gca()\n",
    "    ax.set_xlabel(\"X1\")\n",
    "    ax.set_ylabel(\"X2\")\n",
    "    plt.legend()\n",
    "    plt.title(title)\n",
    "    plt.show()\n",
    "    plt.close()\n",
    "\n",
    "def synthesize_data():\n",
    "    n_clusters = 5\n",
    "    mean_max = 3\n",
    "    X = []\n",
    "    y = []\n",
    "    true_mu_list = []\n",
    "    true_sigma_list = []\n",
    "    for idx in range(n_clusters):\n",
    "        coord = (int(idx / int(n_clusters**(1/2))), idx % int(n_clusters**(1/2)))\n",
    "        class_mean = np.random.multivariate_normal(coord, cov=(np.eye(2)*0.03))\n",
    "        true_mu_list.append(class_mean)\n",
    "        A = np.random.uniform(-1, 1, (2, 2)) * 0.3\n",
    "        real_cov = np.dot(A,A.transpose())\n",
    "        true_sigma_list.append(real_cov)\n",
    "        X.append(np.random.multivariate_normal(mean=class_mean, cov=real_cov, size=1000))\n",
    "        y.append(np.full(1000, idx))\n",
    "    X = np.concatenate(X, axis=0)\n",
    "    y = np.concatenate(y, axis=0)\n",
    "    y_true = y\n",
    "    true_mu_list = np.stack(true_mu_list, axis=0)\n",
    "    true_sigma_list = np.stack(true_sigma_list, axis=0)\n",
    "    y_onehot = np.zeros((X.shape[0], n_clusters))\n",
    "    y_onehot[np.arange(X.shape[0]), y] = 1\n",
    "    plot_data(X, y_true, n_clusters, 'True clusters')\n",
    "    return X, n_clusters"
   ]
  },
  {
   "cell_type": "markdown",
   "metadata": {
    "colab_type": "text",
    "id": "Ao5on5rQwTIP"
   },
   "source": [
    "# K-Means\n",
    "K-means clustering은 데이터로부터 K개의 cluster를 얻는 알고리즘으로 다음의 과정으로 진행됩니다.\n",
    "\n",
    "## 1) Initialization\n",
    "K개 cluster들의 mean을 초기화합니다. K개의 point들을 무작위로 뽑은 후, 각 point를 각 cluster의 중심으로 설정.\n",
    "\n",
    "## 2) Cluster assignment\n",
    "각 데이터 포인트에 대하여 가장 가까운 클러스터 중심을 유클리드 공간에서의 거리를 통해 측정하여, 가장 가까운 클러스터에 배정.\n",
    "\n",
    "$$ r_{nk}=\\begin{cases}\n",
    "    1, & {\\arg\\min_{j} \\|\\mathbf{x}_{n} - \\boldsymbol{\\mu}_{j}\\|_{2}^{2}}\\\\\n",
    "    0, & \\text{otherwise.}\n",
    "  \\end{cases}$$\n",
    "  \n",
    "## 3) Cluster mean update\n",
    "2)에서 클러스터 소속을 배정한 후, 클러스터 중심을 재계산.\n",
    "\n",
    "$$\n",
    "\\mu_{k}^{new} = \\frac{\\sum_{n}^{N} r_{nk}\\mathbf{x}_{n}}{\\sum_{n}^{N} r_{nk}}\n",
    "$$\n",
    "\n",
    "## 4) Termination\n",
    "3&4 step을 반복하다가, 더 이상 클러스터 배정이 변하지 않는다면 알고리즘이 수렴한 것이니 종료.\n",
    "\n",
    "**문제: 1~4 step들을 참고하여 k-means를 구현한 후, cluster 수를 {3개, 5개}로 설정한 결과를 plot하세요.**"
   ]
  },
  {
   "cell_type": "code",
   "execution_count": null,
   "metadata": {
    "colab": {},
    "colab_type": "code",
    "id": "B0Fo87wppJXs"
   },
   "outputs": [],
   "source": [
    "def kMeans(X, n_clusters, max_iter=10):\n",
    "\n",
    "    # Initialize cluster means\n",
    "    cluster_means = X[np.random.choice(np.arange(len(X)), n_clusters), :]\n",
    "\n",
    "    for i in range(max_iter):\n",
    "        # --------------------------------------------\n",
    "        # Your code here\n",
    "\n",
    "        # ---------------------------------------\n",
    "        \n",
    "    return cluster_means , y"
   ]
  },
  {
   "cell_type": "markdown",
   "metadata": {
    "colab_type": "text",
    "id": "NcrUkvJHp2Ic"
   },
   "source": [
    "# Test K-means algorithm\n",
    "\n",
    "제대로 clustering이 되는지 확인합니다. (Ground truth와 색 assignment이 달라도 무방합니다.)"
   ]
  },
  {
   "cell_type": "code",
   "execution_count": null,
   "metadata": {
    "colab": {},
    "colab_type": "code",
    "id": "TG8nLCm0p1nz"
   },
   "outputs": [],
   "source": [
    "def test_kmeans(n_clusters_1, n_clusters_2):\n",
    "    np.random.seed(41)\n",
    "    X, n_clusters = synthesize_data()\n",
    "    cluster_means_1, y_1 = kMeans(X, n_clusters_1)\n",
    "    cluster_means_2, y_2 = kMeans(X, n_clusters_2)\n",
    "    plot_data(X, y_1, n_clusters_1, \"{} clusters\".format(n_clusters_1))\n",
    "    plot_data(X, y_2, n_clusters_2, \"{} clusters\".format(n_clusters_2))\n",
    "    \n",
    "test_kmeans(n_clusters_1=3, n_clusters_2=5)"
   ]
  },
  {
   "cell_type": "code",
   "execution_count": null,
   "metadata": {},
   "outputs": [],
   "source": []
  },
  {
   "cell_type": "code",
   "execution_count": null,
   "metadata": {},
   "outputs": [],
   "source": []
  },
  {
   "cell_type": "code",
   "execution_count": null,
   "metadata": {},
   "outputs": [],
   "source": []
  }
 ],
 "metadata": {
  "colab": {
   "collapsed_sections": [],
   "name": "GMM_EM_Test_Solution.ipynb",
   "provenance": []
  },
  "kernelspec": {
   "display_name": "Python 3",
   "language": "python",
   "name": "python3"
  },
  "language_info": {
   "codemirror_mode": {
    "name": "ipython",
    "version": 3
   },
   "file_extension": ".py",
   "mimetype": "text/x-python",
   "name": "python",
   "nbconvert_exporter": "python",
   "pygments_lexer": "ipython3",
   "version": "3.8.4"
  }
 },
 "nbformat": 4,
 "nbformat_minor": 4
}
