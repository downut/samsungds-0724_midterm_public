{
 "cells": [
  {
   "cell_type": "markdown",
   "metadata": {},
   "source": [
    "# Problem 1"
   ]
  },
  {
   "cell_type": "code",
   "execution_count": null,
   "metadata": {},
   "outputs": [],
   "source": [
    "import pandas as pd\n",
    "import numpy as np\n",
    "from sklearn import metrics\n",
    "from sklearn.linear_model import LinearRegression, LogisticRegression\n",
    "from sklearn.model_selection import train_test_split\n",
    "from sklearn.preprocessing import StandardScaler\n",
    "from sklearn.decomposition import PCA\n",
    "from sklearn.datasets import load_breast_cancer\n",
    "import matplotlib.pyplot as plt\n",
    "%matplotlib inline"
   ]
  },
  {
   "cell_type": "markdown",
   "metadata": {},
   "source": [
    "breast 데이터는 30-dimensional dataset으로 유방암 환자에 대한 정보와 분류 라벨을 담고 있습니다. <br>\n",
    "주어진 데이터를 __5-dimensional__ 로 projection한 후 __classification__ 해보는 문제입니다. <br>"
   ]
  },
  {
   "cell_type": "code",
   "execution_count": null,
   "metadata": {},
   "outputs": [],
   "source": [
    "breast = load_breast_cancer()"
   ]
  },
  {
   "cell_type": "code",
   "execution_count": null,
   "metadata": {},
   "outputs": [],
   "source": [
    "X, y = breast.data, breast.target"
   ]
  },
  {
   "cell_type": "markdown",
   "metadata": {},
   "source": [
    "아래는 데이터를 확인하기 위한 예시 코드입니다. (답안 작성을 위해선 위 X,y만 사용하셔도 됩니다)"
   ]
  },
  {
   "cell_type": "code",
   "execution_count": null,
   "metadata": {},
   "outputs": [],
   "source": [
    "label = np.reshape(y, (569, 1))\n",
    "full_breast = np.concatenate([X, label], axis=1)\n",
    "df = pd.DataFrame(full_breast)\n",
    "df.rename(columns = {30 : 'target'}, inplace = True)\n",
    "df.head()"
   ]
  },
  {
   "cell_type": "markdown",
   "metadata": {},
   "source": [
    "P1.1 ~ P1.6에 맞게 코드 빈칸을 채우고, 질문에 맞게 서술하시오. <br>\n",
    "P1.1. 입력 데이터를 정규화 시키시오. <br>\n",
    "StandardScaler(), fit_transform(input)을 사용하시오."
   ]
  },
  {
   "cell_type": "code",
   "execution_count": null,
   "metadata": {},
   "outputs": [],
   "source": [
    "X = ????"
   ]
  },
  {
   "cell_type": "markdown",
   "metadata": {},
   "source": [
    "P1.2. PCA 알고리즘을 적용하시오. (into dimension 5) <br>\n",
    "PCA(n_components=n_components)를 사용해서 pca algorithm class를 선언한 뒤, fit_transform(input)을 통해 principalComponents를 구하시오."
   ]
  },
  {
   "cell_type": "code",
   "execution_count": null,
   "metadata": {},
   "outputs": [],
   "source": [
    "pca = ????\n",
    "principalComponents = ????"
   ]
  },
  {
   "cell_type": "markdown",
   "metadata": {},
   "source": [
    "principalComponents로 구성된 새로운 data frame을 만들어봅시다."
   ]
  },
  {
   "cell_type": "code",
   "execution_count": null,
   "metadata": {},
   "outputs": [],
   "source": [
    "df_X = pd.DataFrame(data = principalComponents, columns = ['pc1', 'pc2','pc3','pc4','pc5'])\n",
    "df_y = pd.DataFrame(data = y, columns = ['target'])\n",
    "df_X.head()"
   ]
  },
  {
   "cell_type": "markdown",
   "metadata": {},
   "source": [
    "전체 data를 (Training data:Test data)=(4:1) 비율로 나누어줍시다. "
   ]
  },
  {
   "cell_type": "code",
   "execution_count": null,
   "metadata": {},
   "outputs": [],
   "source": [
    "X_train, X_test, y_train, y_test = train_test_split(df_X, df_y, test_size=0.2, random_state=2020)"
   ]
  },
  {
   "cell_type": "markdown",
   "metadata": {},
   "source": [
    "P1.3. 알맞은 예측모델 module(문제의 목적에 맞게 LinearRegression(), LogisticRegression() 중 택 1)을 선언한 뒤, 순서대로 fit(train_input, train_output), predict(test_input) 하시오."
   ]
  },
  {
   "cell_type": "code",
   "execution_count": null,
   "metadata": {},
   "outputs": [],
   "source": [
    "regressor = ?????\n",
    "regressor.????\n",
    "y_pred = ?????"
   ]
  },
  {
   "cell_type": "code",
   "execution_count": null,
   "metadata": {},
   "outputs": [],
   "source": [
    "print(\"Coefficients: \\n\", regressor.coef_)\n",
    "print(\"Intercept: \\n\", regressor.intercept_)"
   ]
  },
  {
   "cell_type": "markdown",
   "metadata": {},
   "source": [
    "예측 모델의 성능을 평가해봅시다."
   ]
  },
  {
   "cell_type": "code",
   "execution_count": null,
   "metadata": {},
   "outputs": [],
   "source": [
    "acc = metrics.accuracy_score(y_test, y_pred)\n",
    "print(\"The test accuracy: %.2f\" % acc)"
   ]
  },
  {
   "cell_type": "markdown",
   "metadata": {},
   "source": [
    "P1.4. PCA를 적용하는데 앞서 normalize(standardization)를 통해 평균은 0, 표준편차는 1인 분포로 만들어준 이유를 서술하시오."
   ]
  },
  {
   "cell_type": "code",
   "execution_count": null,
   "metadata": {},
   "outputs": [],
   "source": []
  },
  {
   "cell_type": "markdown",
   "metadata": {},
   "source": [
    "P1.5. n차원의 데이터에 PCA를 적용하면 몇 개의 주성분 벡터를 반환하는 지 적으시오."
   ]
  },
  {
   "cell_type": "code",
   "execution_count": null,
   "metadata": {},
   "outputs": [],
   "source": []
  },
  {
   "cell_type": "markdown",
   "metadata": {},
   "source": [
    "P1.6. PCA를 통해 feature dimension을 30에서 5으로 줄였음에도 모델의 정확도가 높은 편인데, feature dimension이 매우 큰 반도체 데이터셋 같은 경우 PCA를 사용했을 때의 이점을 서술하시오. (feature dimension, 알고리즘, 모델의 complexity, over-fitting, 학습의 난이도, 학습의 속도 등을 활용)"
   ]
  },
  {
   "cell_type": "code",
   "execution_count": null,
   "metadata": {},
   "outputs": [],
   "source": []
  },
  {
   "cell_type": "markdown",
   "metadata": {},
   "source": [
    "수고하셨습니다!"
   ]
  }
 ],
 "metadata": {
  "kernelspec": {
   "display_name": "Python 3",
   "language": "python",
   "name": "python3"
  },
  "language_info": {
   "codemirror_mode": {
    "name": "ipython",
    "version": 3
   },
   "file_extension": ".py",
   "mimetype": "text/x-python",
   "name": "python",
   "nbconvert_exporter": "python",
   "pygments_lexer": "ipython3",
   "version": "3.8.4"
  }
 },
 "nbformat": 4,
 "nbformat_minor": 4
}
