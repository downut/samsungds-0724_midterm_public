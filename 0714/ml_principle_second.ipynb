{
 "cells": [
  {
   "cell_type": "code",
   "execution_count": null,
   "metadata": {},
   "outputs": [],
   "source": [
    "# Basic setting\n",
    "import pickle\n",
    "import numpy as np\n",
    "import tensorflow as tf\n",
    "import matplotlib.pyplot as plt\n",
    "%matplotlib inline"
   ]
  },
  {
   "cell_type": "code",
   "execution_count": null,
   "metadata": {},
   "outputs": [],
   "source": [
    "with open('data.pickle', 'rb') as f:\n",
    "    X, y = pickle.load(f)"
   ]
  },
  {
   "cell_type": "code",
   "execution_count": null,
   "metadata": {
    "scrolled": true
   },
   "outputs": [],
   "source": [
    "# Check the dataset distribution    \n",
    "plt.scatter(X, y)\n",
    "plt.show()"
   ]
  },
  {
   "cell_type": "markdown",
   "metadata": {},
   "source": [
    "## [문제] 주어진 X, y의 데이터에 최적화된 logistic 회귀 모델을 Tensorflow와 Gradient Descent를 이용해 찾으시오.\n",
    "\n",
    "### HINT\n",
    "**Logistic 회귀**\n",
    "\\begin{equation*}\n",
    "P(y_i=1|X_i) = \\frac{1}{1 + e^{-(wX_i + b)}}\n",
    "\\end{equation*}\n",
    "\n",
    "**가능도 손실 함수**\n",
    "\\begin{equation*}\n",
    "-\\frac{1}{n} \\sum_{i=1}^n (y_i * log(P(y_i=1|X_i)) + (1 - y_i) * log(1 - P(y_i=1|X_i)))\n",
    "\\end{equation*}"
   ]
  },
  {
   "cell_type": "code",
   "execution_count": null,
   "metadata": {},
   "outputs": [],
   "source": [
    "# Training setting\n",
    "epochs = 1000\n",
    "learning_rate = 0.1\n",
    "\n",
    "#################################################\n",
    "### Define model weights and bias parameters ####\n",
    "############## HINT : tf.Variable ###############\n",
    "w = ?\n",
    "b = ?\n",
    "\n",
    "\n",
    "# Perform Gradient Descent\n",
    "for i in range(epochs):\n",
    "    \n",
    "####### Hint : Consider multiple weights  #######\n",
    "\n",
    "    # Define MSE loss function (Hint: tf.GradientTape(), tf.reduce_mean())\n",
    "    with ??? as tape:\n",
    "        # Hint : tf.exp, +, /, *, -\n",
    "        y_pred = 1 ? (1 ? ???(?(w ? X ? b)))\n",
    "        # Hint : tf.reduce_mean, tf.math.log\n",
    "        loss = -???(y ? ???(y_pred) ? (1 ? y) ? ???(1 ? y_pred))\n",
    "        \n",
    "    # Get gradients of parameters (Hint: tape.gradient())\n",
    "    dw, db = ???(???, [?, ?])\n",
    "    \n",
    "    # Update model weights and bias (Hint : assign_sub())\n",
    "    w.???(? ? ?)\n",
    "    b.???(? ? ?)\n",
    "    \n",
    "#################################################\n",
    "    \n",
    "# Convert parameters type from tensor to numpy\n",
    "w = w.numpy()\n",
    "b = b.numpy()\n",
    "\n",
    "# Print the trained parameters value\n",
    "print('Trained model weights 1 : %.4f' % w)\n",
    "print('Trained model bias : %.4f' % b)"
   ]
  },
  {
   "cell_type": "code",
   "execution_count": null,
   "metadata": {},
   "outputs": [],
   "source": [
    "# Visualize the trained linear regression model\n",
    "plt.scatter(X, y)   # scatter the original data\n",
    "y_pred = 1 / (1 + tf.exp(-(w*X + b)))\n",
    "plt.scatter(X, y_pred, color='red')\n",
    "plt.axhline(y=0.5, color='orange', linestyle='--')   # show 0.5 threshold line\n",
    "\n",
    "# Accurate results are colored as orange\n",
    "index1 = (y == 0) * (y_pred.numpy() < 0.5)\n",
    "index2 = (y == 1) * (y_pred.numpy() > 0.5)\n",
    "index = index1 + index2\n",
    "plt.scatter(X[index], y[index], color='orange')\n",
    "\n",
    "plt.show()"
   ]
  },
  {
   "cell_type": "markdown",
   "metadata": {},
   "source": [
    " "
   ]
  }
 ],
 "metadata": {
  "kernelspec": {
   "display_name": "Python 3",
   "language": "python",
   "name": "python3"
  },
  "language_info": {
   "codemirror_mode": {
    "name": "ipython",
    "version": 3
   },
   "file_extension": ".py",
   "mimetype": "text/x-python",
   "name": "python",
   "nbconvert_exporter": "python",
   "pygments_lexer": "ipython3",
   "version": "3.8.4"
  }
 },
 "nbformat": 4,
 "nbformat_minor": 4
}
