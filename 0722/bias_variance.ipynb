{
 "cells": [
  {
   "cell_type": "markdown",
   "metadata": {},
   "source": [
    "# Learning  Theory Assignment\n",
    "본 과제에서는 실습 시간에 진행되었던 Polynomial Regression을 이용하여 <br>\n",
    "y = sin(x) + cos(x) 근사하는 모델을 훈련합니다.<br>\n",
    "더불어 Bias, Variance , Train Mean Squared Error, Test Mean Squared Error를 계산합니다 <br>"
   ]
  },
  {
   "cell_type": "code",
   "execution_count": null,
   "metadata": {},
   "outputs": [],
   "source": [
    "# Loading Packages\n",
    "import random\n",
    "import numpy as np\n",
    "import matplotlib.pyplot as plt\n",
    "from collections import defaultdict\n",
    "from sklearn.preprocessing import PolynomialFeatures\n",
    "from sklearn.linear_model import LinearRegression\n",
    "from sklearn.pipeline import Pipeline\n",
    "from sklearn.metrics import mean_squared_error"
   ]
  },
  {
   "cell_type": "code",
   "execution_count": null,
   "metadata": {},
   "outputs": [],
   "source": [
    "anwser_container = defaultdict(dict)"
   ]
  },
  {
   "cell_type": "markdown",
   "metadata": {},
   "source": [
    "## Problem 1\n",
    "실제 함수의 분포인 get_y_true 함수를 완성하세요.  (input : x , output : sin(x) + cos(x) ) \n",
    "* np.sin, np.cos 함수 이용"
   ]
  },
  {
   "cell_type": "code",
   "execution_count": null,
   "metadata": {},
   "outputs": [],
   "source": [
    "np.random.seed(10)\n",
    "random.seed(10)\n",
    "\n",
    "def get_y_true(x): # 실제 sin + cos\n",
    "    y = ?? ## Your code Here !\n",
    "    return y\n",
    "\n",
    "def get_y_noise(x): # Sin + cos + Random Noise\n",
    "    y = get_y_true(x) + np.random.uniform(-0.4, 0.4, len(x))\n",
    "    return y\n",
    "\n",
    "def get_sample(sample_ratio, x, y): # x, y 에서 sample ratio 만큼 추출\n",
    "    m = len(x)\n",
    "    m_new = int(np.round(sample_ratio*m))\n",
    "    ind = random.sample(range(m), m_new)\n",
    "    ind = np.sort(ind)\n",
    "    x_sample = x[ind]\n",
    "    y_sample = y[ind]\n",
    "    y_true_sample = get_y_true(x_sample)\n",
    "    return x_sample, y_sample, y_true_sample"
   ]
  },
  {
   "cell_type": "code",
   "execution_count": null,
   "metadata": {},
   "outputs": [],
   "source": [
    "# For Checking Anwser\n",
    "anwser_container[1] = get_y_true(0)"
   ]
  },
  {
   "cell_type": "code",
   "execution_count": null,
   "metadata": {},
   "outputs": [],
   "source": [
    "## Data Split\n",
    "random.seed(10)\n",
    "x_num = 200\n",
    "x_space = np.linspace(0,np.pi*4,x_num) # divide the space 0 to 10 in 100 pieces!\n",
    "y = get_y_true(x_space) \n",
    "\n",
    "np.random.seed(10)\n",
    "rand_indicies = list(range(0,x_num))\n",
    "random.shuffle(rand_indicies)\n",
    "rand_idicies_train, rand_idicies_test =rand_indicies[:int(x_num*0.8)], rand_indicies[int(x_num*0.8):]\n",
    "x_train = x_space[rand_idicies_train]\n",
    "y_train = get_y_noise(x_train)\n",
    "\n",
    "x_test = x_space[rand_idicies_test]\n",
    "y_test = get_y_noise(x_test)"
   ]
  },
  {
   "cell_type": "markdown",
   "metadata": {},
   "source": [
    "## Problem 2\n",
    "polynomial regression 모델을 선언하고 (degree=5) x_train 데이터로 학습하세요\n",
    "\n",
    "---\n",
    "* mean_squred_error 함수 사용 권장"
   ]
  },
  {
   "cell_type": "code",
   "execution_count": null,
   "metadata": {},
   "outputs": [],
   "source": [
    "model = Pipeline([('poly', PolynomialFeatures(degree=??)), ## Your Code Here\n",
    "                  ('linear', LinearRegression(fit_intercept=False))])\n",
    "model.fit(x_train[:, np.newaxis], y_train)\n",
    "y_predict = model.predict(x_train[:,np.newaxis])\n",
    "\n",
    "y_test_predict = model.predict(x_test[:,np.newaxis])\n",
    "## Check Train, Test mse\n",
    "mse_train = ?? ## Your Code Here!\n",
    "mse_test = ?? ## Your Code Here!\n",
    "print(\"mse Train : {}, Test : {}\".format(mse_train,mse_test))"
   ]
  },
  {
   "cell_type": "code",
   "execution_count": null,
   "metadata": {},
   "outputs": [],
   "source": [
    "# For Checking Anwser\n",
    "anwser_container[2] = {\"mse_train\":mse_train,\"mse_test\":mse_test}"
   ]
  },
  {
   "cell_type": "markdown",
   "metadata": {},
   "source": [
    "## Problem 3\n",
    "degree 5 일 때 1000 번 sampling 하여 Bias and Variance를 계산하세요. "
   ]
  },
  {
   "cell_type": "code",
   "execution_count": null,
   "metadata": {},
   "outputs": [],
   "source": [
    "random.seed(10)\n",
    "num_sampling = ?? ## Your Code Here ! \n",
    "degree = ??   ## Your Code Here !\n",
    "\n",
    "model_list = []\n",
    "exp_f_x = np.zeros(len(x_train))\n",
    "\n",
    "for i in range(num_sampling):\n",
    "    x_train_sample, y_train_sample, y_train_true = get_sample(sample_ratio=0.3,x=x_train,y=y_train)\n",
    "    model = Pipeline([('poly', PolynomialFeatures(degree=degree)),\n",
    "                  ('linear', LinearRegression(fit_intercept=False))])\n",
    "    model.fit(x_train_sample[:, np.newaxis], y_train_sample)\n",
    "    exp_f_x += model.predict(x_train[:, np.newaxis])\n",
    "    model_list.append(model)\n",
    "\n",
    "\n",
    "exp_f_x/=num_sampling\n",
    "bias = (np.linalg.norm(??))  ## Your Code Here !\n",
    "\n",
    "var = 0\n",
    "for j in range(num_sampling):\n",
    "    model = model_list.pop(0)\n",
    "    var = var + np.square(??) ## Your Code Here !\n",
    "var = var/num_sampling\n",
    "variance = np.linalg.norm(var)\n",
    "\n",
    "print(\"degree : {} bias : {} variance : {}\".format(degree, bias,variance) )"
   ]
  },
  {
   "cell_type": "code",
   "execution_count": null,
   "metadata": {},
   "outputs": [],
   "source": [
    "anwser_container[3] = {\"degree\":degree,\"bias\":bias, \"variance\":variance}"
   ]
  },
  {
   "cell_type": "markdown",
   "metadata": {},
   "source": [
    "## Problem 4\n",
    "degree 10  일 때 1000 번 sampling 하여 Bias and Variance를 계산하세요. \n",
    "\n",
    "---\n",
    "* hint : problem 3 과 구조적으로 동일합니다"
   ]
  },
  {
   "cell_type": "code",
   "execution_count": null,
   "metadata": {},
   "outputs": [],
   "source": [
    "random.seed(10)\n",
    "num_sampling = ?? ## Your Code Here ! \n",
    "degree = ??   ## Your Code Here !\n",
    "\n",
    "model_list = []\n",
    "exp_f_x = np.zeros(len(x_train))\n",
    "\n",
    "for i in range(num_sampling):\n",
    "    x_train_sample, y_train_sample, y_train_true = get_sample(sample_ratio=0.3,x=x_train,y=y_train)\n",
    "    model = Pipeline([('poly', PolynomialFeatures(degree=degree)),\n",
    "                  ('linear', LinearRegression(fit_intercept=False))])\n",
    "    model.fit(??) ## Your Code Here !\n",
    "    exp_f_x += ?? ## Your Code Here !\n",
    "    model_list.append(model)\n",
    "\n",
    "\n",
    "exp_f_x/=num_sampling\n",
    "bias = (np.linalg.norm(??))  ## Your Code Here !\n",
    "\n",
    "var = 0\n",
    "for j in range(num_sampling):\n",
    "    model = model_list.pop(0)\n",
    "    var = var + np.square(??) ## Your Code Here !\n",
    "var = var/num_sampling\n",
    "variance = ?? ## Your Code Here !\n",
    "\n",
    "print(\"degree : {} bias : {} variance : {}\".format(degree, bias,variance) )"
   ]
  },
  {
   "cell_type": "code",
   "execution_count": null,
   "metadata": {},
   "outputs": [],
   "source": [
    "anwser_container[4] = {\"degree\":degree,\"bias\":bias, \"variance\":variance}"
   ]
  },
  {
   "cell_type": "markdown",
   "metadata": {},
   "source": [
    "## Problem 5 True / False 문제\n",
    "1. polynomial regression 에서 degree가 증가하면 bias가 증가하는 경향을 보인다 (T/F)\n",
    "2. polynomial regression 에서 degree가 증가하면 Variance 증가하는 경향을 보인다 (T/F)\n",
    "---\n",
    "\n",
    "정답 입력 방법 :\n",
    "answer = [1번 답, 2번 답] <br>\n",
    "ex)\n",
    "answer = [True, True]"
   ]
  },
  {
   "cell_type": "code",
   "execution_count": null,
   "metadata": {
    "jupyter": {
     "outputs_hidden": true
    }
   },
   "outputs": [],
   "source": [
    "anwser = [?? , ??]"
   ]
  },
  {
   "cell_type": "code",
   "execution_count": null,
   "metadata": {},
   "outputs": [],
   "source": [
    "# For Checking anwser\n",
    "anwser_container[5] = anwser"
   ]
  }
 ],
 "metadata": {
  "kernelspec": {
   "display_name": "Python 3",
   "language": "python",
   "name": "python3"
  },
  "language_info": {
   "codemirror_mode": {
    "name": "ipython",
    "version": 3
   },
   "file_extension": ".py",
   "mimetype": "text/x-python",
   "name": "python",
   "nbconvert_exporter": "python",
   "pygments_lexer": "ipython3",
   "version": "3.8.4"
  }
 },
 "nbformat": 4,
 "nbformat_minor": 4
}
