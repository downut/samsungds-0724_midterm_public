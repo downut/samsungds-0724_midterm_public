{
 "cells": [
  {
   "cell_type": "code",
   "execution_count": null,
   "metadata": {},
   "outputs": [],
   "source": [
    "import numpy as np\n",
    "import matplotlib as mpl\n",
    "import matplotlib.pyplot as plt\n",
    "\n",
    "from sklearn.datasets import fetch_openml\n",
    "from sklearn.cluster import KMeans, AgglomerativeClustering, DBSCAN\n",
    "from sklearn.datasets import make_blobs\n",
    "from sklearn.preprocessing import StandardScaler\n",
    "from sklearn.metrics import normalized_mutual_info_score, adjusted_rand_score\n",
    "\n",
    "\n",
    "from sklearn.decomposition import PCA"
   ]
  },
  {
   "cell_type": "markdown",
   "metadata": {},
   "source": [
    "## KMeans, AgglomerativeClustering, DBSCAN\n",
    "    위 세가지 클러스터링 알고리즘으로부터 아래의 데이터셋 X를 학습시켜 4개의 클러스터로 나누어주세요.\n",
    "    물음표에 해당하는 부분을 채워주시면 됩니다. 채워주신 뒤 아래 셀을 실행하셔서 출력된 그래프에서 \n",
    "    4개의 클러스터가 제대로 구분되도록 arguments들을 잘 조절해주세요. "
   ]
  },
  {
   "cell_type": "code",
   "execution_count": null,
   "metadata": {},
   "outputs": [],
   "source": [
    "X, y = make_blobs(n_samples=1500, centers=4, random_state=71)\n",
    "X = StandardScaler().fit_transform(X)\n",
    "\n",
    "\n",
    "kmeans = ???  # 위 X 데이터셋을 학습시킬 KMeans object를 선언하십시오.\n",
    "y_pred_kmeans = ???  # KMeans object인 kmeans를 X로 학습시키고, 학습 시킨 X의 클러스터링 클래스 결과 값을 y_pred_kmeans로 선언해주세요.\n",
    "\n",
    "agglo = ???  # 위 X 데이터셋을 학습시킬 AgglomerativeClustering object를 선언하십시오.\n",
    "y_pred_agglo = ???  # AgglomerativeClustering object인 agglo를 X로 학습시키고, 학습 시킨 X의\n",
    "                    # 클러스터링 클래스 결과 값을 y_pred_agglo로 선언해주세요.\n",
    "\n",
    "# DBSCAN의 경우에는 outlier 없이, 완벽하게 4개의 클러스터로 나누는 것은 어려울 것입니다. 대신 대부분의 노드가 4개의 클러스터에 포함될 수 있도록 해주세요.\n",
    "dbscan = ???  # 위 X 데이터셋을 학습시킬  DBSCAN object를 선언하십시오. (4개의 blob을 잘 구분할 수 있도록 arguments들을 잘 조절해주세요.)\n",
    "y_pred_dbscan = ???  #  DBSCAN object인 dbscan을 X로 학습시키고, 학습 시킨 X의\n",
    "                     # 클러스터링 클래스 결과 값을 y_pred_dbscan로 선언해주세요.\n",
    "\n",
    "    \n",
    "for i, y_pred in enumerate([y_pred_kmeans, y_pred_agglo, y_pred_dbscan]):\n",
    "    plt.subplot(1, 3, i + 1)\n",
    "    plt.scatter(X[:, 0], X[:, 1], c=y_pred, cmap=\"plasma\")\n",
    "plt.show()"
   ]
  },
  {
   "cell_type": "markdown",
   "metadata": {},
   "source": [
    "## KMeans, AgglomerativeClustering, DBSCAN (Cont)\n",
    "    세 알고리즘의 예측인 y_pred_kmeans, y_pred_agglo, y_pred_dbscan을 실제 정답인 y를 통해\n",
    "    NMI (Normalized Mutual Information), ARI (Adjusted Rand Index)를 출력해주세요.\n",
    "    아래의 물음표 부분을 채우셔서 NMI_kmeans, NMI_agglo, NMI_dbscan / ARI_kmeans, ARI_agglo, ARI_dbscan를 선언해주시면 됩니다."
   ]
  },
  {
   "cell_type": "code",
   "execution_count": null,
   "metadata": {},
   "outputs": [],
   "source": [
    "NMI_kmeans = ???  # y_pred_kmeans에 대한 NMI 지표를 계산하는 함수를 작성해주세요.\n",
    "NMI_agglo = ???  # y_pred_agglo에 대한 NMI 지표를 계산하는 함수를 작성해주세요.\n",
    "NMI_dbscan = ???  # y_pred_dbscan에 대한 NMI 지표를 계산하는 함수를 작성해주세요.\n",
    "\n",
    "ARI_kmeans = ???  # y_pred_kmeans에 대한 ARI 지표를 계산하는 함수를 작성해주세요.\n",
    "ARI_agglo = ???  # y_pred_agglo에 대한 ARI 지표를 계산하는 함수를 작성해주세요.\n",
    "ARI_dbscan = ???  # y_pred_dbscan에 대한 ARI 지표를 계산하는 함수를 작성해주세요.\n",
    "\n",
    "print(\"NMI-kmeans: \", NMI_kmeans)\n",
    "print(\"NMI-agglo: \", NMI_agglo)\n",
    "print(\"NMI-dbscan: \", NMI_dbscan)\n",
    "print()\n",
    "print(\"ARI-kmeans: \", ARI_kmeans)\n",
    "print(\"ARI-agglo: \", ARI_agglo)\n",
    "print(\"ARI-dbscan: \", ARI_dbscan)"
   ]
  },
  {
   "cell_type": "markdown",
   "metadata": {},
   "source": [
    "## PCA, variance explained\n",
    "    PCA를 사용할 때, n_components 파라미터를 정수 값이 아닌 0과 1사이의 실수값으로 지정할 경우 데이터셋의 variance explained를 해당 비율만큼 유지한 채 PCA를 수행하게 됩니다. 아래 문제에서는 mnist dataset을 따라 variance explained에 따라 축소되는 dimension이 어떻게 변화는지, 그리고 복원된 이미지가 어떻게 달라지는지 출력하게 됩니다. 각 셀의 지시대로 함수를 선언하고 적절한 메소드를 사용하여 물음표(?)를 채워주시고, 마지막 Question아래에 셀에 해당 결과들을 분석하셔서 답변을 적어주시면 됩니다."
   ]
  },
  {
   "cell_type": "code",
   "execution_count": null,
   "metadata": {},
   "outputs": [],
   "source": [
    "# 데이터 설치 (MNIST dataset)\n",
    "# 손글씨 숫자 데이터셋인 mnist dataset을 사용합니다.\n",
    "# 각 데이터는 X에 784차원인 데이터로 array형태로 저장되어있습니다.\n",
    "# y는 X에 해당하는 실제 숫자입니다. (0~9)\n",
    "# 이 셀을 실행시키셔서 mnist dataset의 X, y를 선업합니다.\n",
    "mnist = fetch_openml('mnist_784', version = 1)\n",
    "X, y = mnist[\"data\"], mnist[\"target\"]\n",
    "X = X[:10000,:]\n",
    "y = y[:10000]"
   ]
  },
  {
   "cell_type": "code",
   "execution_count": null,
   "metadata": {},
   "outputs": [],
   "source": [
    "#########        TODO        #########\n",
    "# PCA의 paramter인 n_components를 \n",
    "#데이터셋의 95%의 variance explained를 \n",
    "# 유지하도록 세팅하십시오.\n",
    "\n",
    "pca = ???  # variance explained 95% 유지하도록 PCA함수를 선언해주세요.\n",
    "X_dim_reduced = ???  # 위 pca를 이용하여 X를 학습시키고, transform된 결과값을 X_dim_reduced로 선언해주세요.\n",
    "X_recovered = ???  # pca를 이용하여 변환시킨 X_dim_reduced를 inverse tranform시켜 \n",
    "                   # X_recovered로 선언해주세요.\n",
    "#########        TODO        #########\n",
    "\n",
    "\n",
    "fig=plt.figure(figsize=(5, 5))\n",
    "columns = 2\n",
    "rows = 5\n",
    "for i in range(1, columns*rows + 1):\n",
    "    if i % 2 == 1:    \n",
    "        original_digit = X[i//2]\n",
    "        original_digit_image = original_digit.reshape(28,28)\n",
    "        fig.add_subplot(rows, columns, i)\n",
    "        plt.imshow(original_digit_image, cmap = mpl.cm.binary, interpolation = \"nearest\")\n",
    "    else:             \n",
    "        reduced_digit = X_recovered[(i-1)//2]\n",
    "        reduced_digit_image = reduced_digit.reshape(28,28)\n",
    "        fig.add_subplot(rows, columns, i)\n",
    "        plt.imshow(reduced_digit_image, cmap = mpl.cm.binary, interpolation = \"nearest\")\n",
    "\n",
    "plt.show()\n",
    "print(\"95% variance explained를 유지하기 위한 principal component의 갯수: \", len(X_dim_reduced[0]))"
   ]
  },
  {
   "cell_type": "code",
   "execution_count": null,
   "metadata": {},
   "outputs": [],
   "source": [
    "#########        TODO        #########\n",
    "# 위와 동일한 코드를 작성하되\n",
    "#데이터셋의 50%의 variance explained를 \n",
    "# 유지하도록 세팅하십시오.\n",
    "\n",
    "pca = ???  # variance explained 50% 유지하도록 PCA함수를 선언해주세요.\n",
    "X_dim_reduced = ???  # 위 pca를 이용하여 X를 학습시키고, transform된 결과값을 X_dim_reduced로 선언해주세요.\n",
    "X_recovered = ???  # pca를 이용하여 변환시킨 X_dim_reduced를 inverse tranform시켜 \n",
    "                   # X_recovered로 선언해주세요.\n",
    "#########        TODO        #########\n",
    "\n",
    "\n",
    "fig=plt.figure(figsize=(5, 5))\n",
    "columns = 2\n",
    "rows = 5\n",
    "for i in range(1, columns*rows + 1):\n",
    "    if i % 2 == 1:\n",
    "        original_digit = X[i//2]\n",
    "        original_digit_image = original_digit.reshape(28,28)\n",
    "        fig.add_subplot(rows, columns, i)\n",
    "        plt.imshow(original_digit_image, cmap = mpl.cm.binary, interpolation = \"nearest\")\n",
    "    else:\n",
    "        reduced_digit = X_recovered[(i-1)//2]\n",
    "        reduced_digit_image = reduced_digit.reshape(28,28)\n",
    "        fig.add_subplot(rows, columns, i)\n",
    "        plt.imshow(reduced_digit_image, cmap = mpl.cm.binary, interpolation = \"nearest\")\n",
    "\n",
    "plt.show()\n",
    "print(\"50% variance explained를 유지하기 위한 principal component의 갯수: \", len(X_dim_reduced[0]))"
   ]
  },
  {
   "cell_type": "markdown",
   "metadata": {},
   "source": [
    "## Question: \n",
    "    위 두 셀에서 variance explained를 95%, 50% 로 설정하였을 때, 필요한 principal component의 갯수를 각각 쓰시고, 그 갯수가 variance explained와 어떤 연관이 있는지 써주세요. 그리고 복원된 이미지가 그에 따라 어떻게 변화하는지 함께 써주세요."
   ]
  },
  {
   "cell_type": "code",
   "execution_count": null,
   "metadata": {},
   "outputs": [],
   "source": [
    "# 여기에 한글로 작성해주시면 됩니다."
   ]
  }
 ],
 "metadata": {
  "kernelspec": {
   "display_name": "Python 3",
   "language": "python",
   "name": "python3"
  },
  "language_info": {
   "codemirror_mode": {
    "name": "ipython",
    "version": 3
   },
   "file_extension": ".py",
   "mimetype": "text/x-python",
   "name": "python",
   "nbconvert_exporter": "python",
   "pygments_lexer": "ipython3",
   "version": "3.8.4"
  }
 },
 "nbformat": 4,
 "nbformat_minor": 4
}
